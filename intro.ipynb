{
  "nbformat": 4,
  "nbformat_minor": 0,
  "metadata": {
    "colab": {
      "name": "intro.ipynb",
      "provenance": [],
      "authorship_tag": "ABX9TyPx+a1rcwbsWAcCV/b5Gfs/"
    },
    "kernelspec": {
      "name": "python3",
      "display_name": "Python 3"
    },
    "accelerator": "GPU"
  },
  "cells": [
    {
      "cell_type": "code",
      "metadata": {
        "id": "rrQgaiIRL3TQ",
        "colab_type": "code",
        "colab": {
          "base_uri": "https://localhost:8080/",
          "height": 34
        },
        "outputId": "799ae161-bb44-48e4-9808-79cd2926eae8"
      },
      "source": [
        "print('Hello Colab')"
      ],
      "execution_count": 2,
      "outputs": [
        {
          "output_type": "stream",
          "text": [
            "Hello Colab\n"
          ],
          "name": "stdout"
        }
      ]
    },
    {
      "cell_type": "code",
      "metadata": {
        "id": "CS_V1kqxM2zE",
        "colab_type": "code",
        "colab": {
          "base_uri": "https://localhost:8080/",
          "height": 50
        },
        "outputId": "facafcc0-f96e-4820-9f6d-4a9d9f80f2d8"
      },
      "source": [
        "!pip install --upgrade opencv-python"
      ],
      "execution_count": 3,
      "outputs": [
        {
          "output_type": "stream",
          "text": [
            "Requirement already up-to-date: opencv-python in /usr/local/lib/python3.6/dist-packages (4.2.0.32)\n",
            "Requirement already satisfied, skipping upgrade: numpy>=1.11.3 in /usr/local/lib/python3.6/dist-packages (from opencv-python) (1.17.5)\n"
          ],
          "name": "stdout"
        }
      ]
    },
    {
      "cell_type": "markdown",
      "metadata": {
        "id": "X9dvtYp9Rs3H",
        "colab_type": "text"
      },
      "source": [
        "# Import bibliotek\n"
      ]
    },
    {
      "cell_type": "code",
      "metadata": {
        "id": "fvEu9Nt3R_ah",
        "colab_type": "code",
        "colab": {}
      },
      "source": [
        "import cv2\n",
        "from google.colab.patches import cv2_imshow"
      ],
      "execution_count": 0,
      "outputs": []
    },
    {
      "cell_type": "markdown",
      "metadata": {
        "id": "rXW8ODgzS7c-",
        "colab_type": "text"
      },
      "source": [
        "#Przedstawienie obrazu"
      ]
    },
    {
      "cell_type": "code",
      "metadata": {
        "id": "mvEx-eJcTAiz",
        "colab_type": "code",
        "colab": {}
      },
      "source": [
        "img = cv2.imread(filename='cat.100.jpg')\n",
        "\n",
        "cv2_imshow(img)\n",
        "# img.shape\n",
        "\n",
        "imgG = cv2.imread(filename='cat.100.jpg', flags = cv2.IMREAD_GRAYSCALE)\n",
        "cv2_imshow(imgG)"
      ],
      "execution_count": 0,
      "outputs": []
    },
    {
      "cell_type": "markdown",
      "metadata": {
        "id": "wijrGIOWVIJj",
        "colab_type": "text"
      },
      "source": [
        "#Nakładanie obrazów"
      ]
    },
    {
      "cell_type": "code",
      "metadata": {
        "id": "nKgnSymgVMfk",
        "colab_type": "code",
        "colab": {}
      },
      "source": [
        ""
      ],
      "execution_count": 0,
      "outputs": []
    }
  ]
}